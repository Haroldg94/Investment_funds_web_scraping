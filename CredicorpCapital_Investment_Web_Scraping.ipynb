{
 "cells": [
  {
   "cell_type": "code",
   "execution_count": 1,
   "metadata": {},
   "outputs": [],
   "source": [
    "from IPython.core.display import HTML\n",
    "from IPython.display import IFrame\n",
    "\n",
    "#import urllib # package required to interact with live webpage\n",
    "#import requests\n",
    "\n",
    "import pandas as pd\n",
    "import numpy as np\n",
    "from bs4 import BeautifulSoup\n",
    "from selenium import webdriver\n",
    "from selenium.webdriver.chrome.options import Options\n",
    "from selenium.webdriver.support.ui import Select\n",
    "from selenium.common.exceptions import NoSuchElementException\n",
    "import time\n",
    "import re"
   ]
  },
  {
   "cell_type": "code",
   "execution_count": 2,
   "metadata": {},
   "outputs": [],
   "source": [
    "def open_excel(excel_path = 'investment_funds.xlsx'):\n",
    "    saved_data = pd.read_excel(excel_path)\n",
    "    return saved_data"
   ]
  },
  {
   "cell_type": "code",
   "execution_count": 3,
   "metadata": {},
   "outputs": [],
   "source": [
    "site_url = 'https://www.credicorpcapital.com/Colombia/Neg/GA/Paginas/FGA.aspx'    \n",
    "options = Options()\n",
    "options.add_argument(\"--headless\") # To Avoid the navigator to open\n",
    "\n",
    "browser = webdriver.Chrome(options= options)"
   ]
  },
  {
   "cell_type": "code",
   "execution_count": 4,
   "metadata": {},
   "outputs": [],
   "source": [
    "browser.get(site_url)\n",
    "time.sleep(2)\n",
    "default_html = browser.page_source\n",
    "\n",
    "soup = BeautifulSoup(default_html, 'lxml')"
   ]
  },
  {
   "cell_type": "code",
   "execution_count": 11,
   "metadata": {},
   "outputs": [],
   "source": [
    "historical_df = open_excel()\n",
    "\n",
    "temp = pd.DataFrame(columns = historical_df.columns)"
   ]
  },
  {
   "cell_type": "code",
   "execution_count": 27,
   "metadata": {},
   "outputs": [
    {
     "data": {
      "text/plain": [
       "Index(['Fondo de Inversion', 'Fecha Extracción', 'Valor de la unidad',\n",
       "       'Valor en Pesos', '7 días', '30 días', '180 días', 'Año corrido',\n",
       "       'Último año', 'Últimos dos años', 'Últimos tres años',\n",
       "       'Fecha de Cierre', 'Fondo administrador por', 'Calificación', 'Plazo'],\n",
       "      dtype='object')"
      ]
     },
     "execution_count": 27,
     "metadata": {},
     "output_type": "execute_result"
    }
   ],
   "source": [
    "temp.columns"
   ]
  },
  {
   "cell_type": "code",
   "execution_count": 12,
   "metadata": {},
   "outputs": [],
   "source": [
    "df = pd.read_html(default_html)"
   ]
  },
  {
   "cell_type": "code",
   "execution_count": 40,
   "metadata": {},
   "outputs": [
    {
     "data": {
      "text/plain": [
       "0    Fecha Cierre\n",
       "1      2021-07-23\n",
       "Name: 0, dtype: object"
      ]
     },
     "execution_count": 40,
     "metadata": {},
     "output_type": "execute_result"
    }
   ],
   "source": [
    "closing_date_df = pd.DataFrame(df[1]).loc[0,:].T\n",
    "closing_date_df"
   ]
  },
  {
   "cell_type": "code",
   "execution_count": 42,
   "metadata": {},
   "outputs": [
    {
     "data": {
      "text/plain": [
       "0    Valor del Fondo\n",
       "1     74786347512.33\n",
       "Name: 1, dtype: object"
      ]
     },
     "execution_count": 42,
     "metadata": {},
     "output_type": "execute_result"
    }
   ],
   "source": [
    "fund_value_df = pd.DataFrame(df[1]).loc[1,:].T\n",
    "fund_value_df"
   ]
  },
  {
   "cell_type": "code",
   "execution_count": 94,
   "metadata": {},
   "outputs": [],
   "source": [
    "fund_info = pd.concat([pd.DataFrame(df[2]).loc[0:1,:],closing_date_df,fund_value_df], axis = 1)"
   ]
  },
  {
   "cell_type": "code",
   "execution_count": 95,
   "metadata": {},
   "outputs": [
    {
     "data": {
      "text/html": [
       "<div>\n",
       "<style scoped>\n",
       "    .dataframe tbody tr th:only-of-type {\n",
       "        vertical-align: middle;\n",
       "    }\n",
       "\n",
       "    .dataframe tbody tr th {\n",
       "        vertical-align: top;\n",
       "    }\n",
       "\n",
       "    .dataframe thead th {\n",
       "        text-align: right;\n",
       "    }\n",
       "</style>\n",
       "<table border=\"1\" class=\"dataframe\">\n",
       "  <thead>\n",
       "    <tr style=\"text-align: right;\">\n",
       "      <th></th>\n",
       "      <th>Tipo de participación</th>\n",
       "      <th>Valor TP (en MM)</th>\n",
       "      <th>Valor Unidad TP</th>\n",
       "      <th>Último Mes</th>\n",
       "      <th>Últimos 6 Meses</th>\n",
       "      <th>Año Corrido</th>\n",
       "      <th>Último Año</th>\n",
       "      <th>Últimos 2 Años</th>\n",
       "      <th>Últimos 3 Años</th>\n",
       "      <th>Fecha Cierre</th>\n",
       "      <th>Valor del Fondo</th>\n",
       "    </tr>\n",
       "  </thead>\n",
       "  <tbody>\n",
       "    <tr>\n",
       "      <th>1</th>\n",
       "      <td>A</td>\n",
       "      <td>$68,176.43</td>\n",
       "      <td>$23,276.885027</td>\n",
       "      <td>39.29%</td>\n",
       "      <td>30.82%</td>\n",
       "      <td>33.47%</td>\n",
       "      <td>34.23%</td>\n",
       "      <td>17.92%</td>\n",
       "      <td>13.31%</td>\n",
       "      <td>2021-07-23</td>\n",
       "      <td>74786347512.33</td>\n",
       "    </tr>\n",
       "  </tbody>\n",
       "</table>\n",
       "</div>"
      ],
      "text/plain": [
       "0 Tipo de participación Valor TP (en MM) Valor Unidad TP Último Mes  \\\n",
       "1                     A       $68,176.43  $23,276.885027     39.29%   \n",
       "\n",
       "0 Últimos 6 Meses Año Corrido Último Año Últimos 2 Años Últimos 3 Años  \\\n",
       "1          30.82%      33.47%     34.23%         17.92%         13.31%   \n",
       "\n",
       "0 Fecha Cierre Valor del Fondo  \n",
       "1   2021-07-23  74786347512.33  "
      ]
     },
     "execution_count": 95,
     "metadata": {},
     "output_type": "execute_result"
    }
   ],
   "source": [
    "fund_info.columns = fund_info.loc[0,:]\n",
    "fund_info.drop(0,axis = 0, inplace = True)\n",
    "fund_info"
   ]
  },
  {
   "cell_type": "code",
   "execution_count": 96,
   "metadata": {},
   "outputs": [
    {
     "data": {
      "text/html": [
       "<div>\n",
       "<style scoped>\n",
       "    .dataframe tbody tr th:only-of-type {\n",
       "        vertical-align: middle;\n",
       "    }\n",
       "\n",
       "    .dataframe tbody tr th {\n",
       "        vertical-align: top;\n",
       "    }\n",
       "\n",
       "    .dataframe thead th {\n",
       "        text-align: right;\n",
       "    }\n",
       "</style>\n",
       "<table border=\"1\" class=\"dataframe\">\n",
       "  <thead>\n",
       "    <tr style=\"text-align: right;\">\n",
       "      <th></th>\n",
       "      <th>Perfil</th>\n",
       "      <th>Tipo</th>\n",
       "      <th>Objetivo</th>\n",
       "      <th>Horizonte de la Inversión</th>\n",
       "      <th>Politica de Inversión</th>\n",
       "      <th>Inicio de Operaciones</th>\n",
       "      <th>Inversión Mínima</th>\n",
       "      <th>​Valor Mínimo Adiciones y Retiros</th>\n",
       "      <th>​Saldo Mínimo de Permanencia</th>\n",
       "      <th>Retiros</th>\n",
       "      <th>​Cancelaciones</th>\n",
       "      <th>Comisión</th>\n",
       "      <th>Ticker Bloomberg</th>\n",
       "    </tr>\n",
       "  </thead>\n",
       "  <tbody>\n",
       "    <tr>\n",
       "      <th>1</th>\n",
       "      <td>AGRESIVO</td>\n",
       "      <td>Abierto sin pacto de permanencia</td>\n",
       "      <td>Busca el crecimiento del capital por medio de ...</td>\n",
       "      <td>Superior a dos años.</td>\n",
       "      <td>Arquitectura abierta que nos permite seleccion...</td>\n",
       "      <td>08-Junio-10</td>\n",
       "      <td>$1,000,000</td>\n",
       "      <td>​$500,000​</td>\n",
       "      <td>​$1,000,000</td>\n",
       "      <td>T+5 - Hasta el 95% del saldo incluida la reten...</td>\n",
       "      <td>​T+5</td>\n",
       "      <td>*De acuerdo a la clase de participación</td>\n",
       "      <td>CAMACGA</td>\n",
       "    </tr>\n",
       "  </tbody>\n",
       "</table>\n",
       "</div>"
      ],
      "text/plain": [
       "0    Perfil                              Tipo  \\\n",
       "1  AGRESIVO  Abierto sin pacto de permanencia   \n",
       "\n",
       "0                                           Objetivo  \\\n",
       "1  Busca el crecimiento del capital por medio de ...   \n",
       "\n",
       "0 Horizonte de la Inversión  \\\n",
       "1      Superior a dos años.   \n",
       "\n",
       "0                              Politica de Inversión Inicio de Operaciones  \\\n",
       "1  Arquitectura abierta que nos permite seleccion...           08-Junio-10   \n",
       "\n",
       "0 Inversión Mínima ​Valor Mínimo Adiciones y Retiros  \\\n",
       "1       $1,000,000                        ​$500,000​   \n",
       "\n",
       "0 ​Saldo Mínimo de Permanencia  \\\n",
       "1                  ​$1,000,000   \n",
       "\n",
       "0                                            Retiros ​Cancelaciones  \\\n",
       "1  T+5 - Hasta el 95% del saldo incluida la reten...           ​T+5   \n",
       "\n",
       "0                                 Comisión Ticker Bloomberg  \n",
       "1  *De acuerdo a la clase de participación          CAMACGA  "
      ]
     },
     "execution_count": 96,
     "metadata": {},
     "output_type": "execute_result"
    }
   ],
   "source": [
    "general_info = pd.DataFrame(df[3]).T\n",
    "general_info.columns = general_info.loc[0,:]\n",
    "general_info.drop(0, axis = 0, inplace = True)\n",
    "general_info"
   ]
  },
  {
   "cell_type": "code",
   "execution_count": 97,
   "metadata": {},
   "outputs": [],
   "source": [
    "fund_info['Fondo de Inversion'] = 'Acciones Globales'\n",
    "fund_info['Calificación'] = 'No Aplica'\n",
    "fund_info['Plazo'] = 'No aplica'\n",
    "fund_info['Fondo administrador por'] = 'Credicorp Capital'\n",
    "fund_info['7 días'] = np.nan"
   ]
  },
  {
   "cell_type": "code",
   "execution_count": 98,
   "metadata": {},
   "outputs": [
    {
     "data": {
      "text/html": [
       "<div>\n",
       "<style scoped>\n",
       "    .dataframe tbody tr th:only-of-type {\n",
       "        vertical-align: middle;\n",
       "    }\n",
       "\n",
       "    .dataframe tbody tr th {\n",
       "        vertical-align: top;\n",
       "    }\n",
       "\n",
       "    .dataframe thead th {\n",
       "        text-align: right;\n",
       "    }\n",
       "</style>\n",
       "<table border=\"1\" class=\"dataframe\">\n",
       "  <thead>\n",
       "    <tr style=\"text-align: right;\">\n",
       "      <th></th>\n",
       "      <th>Tipo de participación</th>\n",
       "      <th>Valor TP (en MM)</th>\n",
       "      <th>Valor Unidad TP</th>\n",
       "      <th>Último Mes</th>\n",
       "      <th>Últimos 6 Meses</th>\n",
       "      <th>Año Corrido</th>\n",
       "      <th>Último Año</th>\n",
       "      <th>Últimos 2 Años</th>\n",
       "      <th>Últimos 3 Años</th>\n",
       "      <th>Fecha Cierre</th>\n",
       "      <th>Valor del Fondo</th>\n",
       "      <th>Fondo de Inversion</th>\n",
       "      <th>Calificación</th>\n",
       "      <th>Plazo</th>\n",
       "      <th>Fondo administrador por</th>\n",
       "      <th>7 días</th>\n",
       "    </tr>\n",
       "  </thead>\n",
       "  <tbody>\n",
       "    <tr>\n",
       "      <th>1</th>\n",
       "      <td>A</td>\n",
       "      <td>$68,176.43</td>\n",
       "      <td>$23,276.885027</td>\n",
       "      <td>39.29%</td>\n",
       "      <td>30.82%</td>\n",
       "      <td>33.47%</td>\n",
       "      <td>34.23%</td>\n",
       "      <td>17.92%</td>\n",
       "      <td>13.31%</td>\n",
       "      <td>2021-07-23</td>\n",
       "      <td>74786347512.33</td>\n",
       "      <td>Acciones Globales</td>\n",
       "      <td>No Aplica</td>\n",
       "      <td>No aplica</td>\n",
       "      <td>Credicorp Capital</td>\n",
       "      <td>NaN</td>\n",
       "    </tr>\n",
       "  </tbody>\n",
       "</table>\n",
       "</div>"
      ],
      "text/plain": [
       "0 Tipo de participación Valor TP (en MM) Valor Unidad TP Último Mes  \\\n",
       "1                     A       $68,176.43  $23,276.885027     39.29%   \n",
       "\n",
       "0 Últimos 6 Meses Año Corrido Último Año Últimos 2 Años Últimos 3 Años  \\\n",
       "1          30.82%      33.47%     34.23%         17.92%         13.31%   \n",
       "\n",
       "0 Fecha Cierre Valor del Fondo Fondo de Inversion Calificación      Plazo  \\\n",
       "1   2021-07-23  74786347512.33  Acciones Globales    No Aplica  No aplica   \n",
       "\n",
       "0 Fondo administrador por  7 días  \n",
       "1       Credicorp Capital     NaN  "
      ]
     },
     "execution_count": 98,
     "metadata": {},
     "output_type": "execute_result"
    }
   ],
   "source": [
    "fund_info"
   ]
  },
  {
   "cell_type": "code",
   "execution_count": 99,
   "metadata": {},
   "outputs": [],
   "source": [
    "fund_info.drop(['Tipo de participación','Valor TP (en MM)'], axis = 1, inplace = True)"
   ]
  },
  {
   "cell_type": "code",
   "execution_count": 100,
   "metadata": {},
   "outputs": [
    {
     "data": {
      "text/html": [
       "<div>\n",
       "<style scoped>\n",
       "    .dataframe tbody tr th:only-of-type {\n",
       "        vertical-align: middle;\n",
       "    }\n",
       "\n",
       "    .dataframe tbody tr th {\n",
       "        vertical-align: top;\n",
       "    }\n",
       "\n",
       "    .dataframe thead th {\n",
       "        text-align: right;\n",
       "    }\n",
       "</style>\n",
       "<table border=\"1\" class=\"dataframe\">\n",
       "  <thead>\n",
       "    <tr style=\"text-align: right;\">\n",
       "      <th></th>\n",
       "      <th>Valor Unidad TP</th>\n",
       "      <th>Último Mes</th>\n",
       "      <th>Últimos 6 Meses</th>\n",
       "      <th>Año Corrido</th>\n",
       "      <th>Último Año</th>\n",
       "      <th>Últimos 2 Años</th>\n",
       "      <th>Últimos 3 Años</th>\n",
       "      <th>Fecha Cierre</th>\n",
       "      <th>Valor del Fondo</th>\n",
       "      <th>Fondo de Inversion</th>\n",
       "      <th>Calificación</th>\n",
       "      <th>Plazo</th>\n",
       "      <th>Fondo administrador por</th>\n",
       "      <th>7 días</th>\n",
       "    </tr>\n",
       "  </thead>\n",
       "  <tbody>\n",
       "    <tr>\n",
       "      <th>1</th>\n",
       "      <td>$23,276.885027</td>\n",
       "      <td>39.29%</td>\n",
       "      <td>30.82%</td>\n",
       "      <td>33.47%</td>\n",
       "      <td>34.23%</td>\n",
       "      <td>17.92%</td>\n",
       "      <td>13.31%</td>\n",
       "      <td>2021-07-23</td>\n",
       "      <td>74786347512.33</td>\n",
       "      <td>Acciones Globales</td>\n",
       "      <td>No Aplica</td>\n",
       "      <td>No aplica</td>\n",
       "      <td>Credicorp Capital</td>\n",
       "      <td>NaN</td>\n",
       "    </tr>\n",
       "  </tbody>\n",
       "</table>\n",
       "</div>"
      ],
      "text/plain": [
       "0 Valor Unidad TP Último Mes Últimos 6 Meses Año Corrido Último Año  \\\n",
       "1  $23,276.885027     39.29%          30.82%      33.47%     34.23%   \n",
       "\n",
       "0 Últimos 2 Años Últimos 3 Años Fecha Cierre Valor del Fondo  \\\n",
       "1         17.92%         13.31%   2021-07-23  74786347512.33   \n",
       "\n",
       "0 Fondo de Inversion Calificación      Plazo Fondo administrador por  7 días  \n",
       "1  Acciones Globales    No Aplica  No aplica       Credicorp Capital     NaN  "
      ]
     },
     "execution_count": 100,
     "metadata": {},
     "output_type": "execute_result"
    }
   ],
   "source": [
    "fund_info"
   ]
  },
  {
   "cell_type": "code",
   "execution_count": 101,
   "metadata": {},
   "outputs": [],
   "source": [
    "fund_info.rename(columns = {'Valor Unidad TP':'Valor de la unidad',\n",
    "                            'Último Mes':'30 días',\n",
    "                            'Últimos 6 Meses':'180 días',\n",
    "                           'Año Corrido':'Año corrido',\n",
    "                            'Último Año':'Último año',\n",
    "                            'Últimos 2 Años':'Últimos dos años',\n",
    "                           'Últimos 3 Años':'Últimos tres años',\n",
    "                            'Fecha Cierre':'Fecha de Cierre',\n",
    "                            'Valor del Fondo':'Valor en Pesos'}\n",
    "                 , inplace = True)"
   ]
  },
  {
   "cell_type": "code",
   "execution_count": 102,
   "metadata": {},
   "outputs": [
    {
     "data": {
      "text/html": [
       "<div>\n",
       "<style scoped>\n",
       "    .dataframe tbody tr th:only-of-type {\n",
       "        vertical-align: middle;\n",
       "    }\n",
       "\n",
       "    .dataframe tbody tr th {\n",
       "        vertical-align: top;\n",
       "    }\n",
       "\n",
       "    .dataframe thead th {\n",
       "        text-align: right;\n",
       "    }\n",
       "</style>\n",
       "<table border=\"1\" class=\"dataframe\">\n",
       "  <thead>\n",
       "    <tr style=\"text-align: right;\">\n",
       "      <th></th>\n",
       "      <th>Valor de la unidad</th>\n",
       "      <th>30 días</th>\n",
       "      <th>180 días</th>\n",
       "      <th>Año corrido</th>\n",
       "      <th>Último año</th>\n",
       "      <th>Últimos dos años</th>\n",
       "      <th>Últimos tres años</th>\n",
       "      <th>Fecha de Cierre</th>\n",
       "      <th>Valor en Pesos</th>\n",
       "      <th>Fondo de Inversion</th>\n",
       "      <th>Calificación</th>\n",
       "      <th>Plazo</th>\n",
       "      <th>Fondo administrador por</th>\n",
       "      <th>7 días</th>\n",
       "    </tr>\n",
       "  </thead>\n",
       "  <tbody>\n",
       "    <tr>\n",
       "      <th>1</th>\n",
       "      <td>$23,276.885027</td>\n",
       "      <td>39.29%</td>\n",
       "      <td>30.82%</td>\n",
       "      <td>33.47%</td>\n",
       "      <td>34.23%</td>\n",
       "      <td>17.92%</td>\n",
       "      <td>13.31%</td>\n",
       "      <td>2021-07-23</td>\n",
       "      <td>74786347512.33</td>\n",
       "      <td>Acciones Globales</td>\n",
       "      <td>No Aplica</td>\n",
       "      <td>No aplica</td>\n",
       "      <td>Credicorp Capital</td>\n",
       "      <td>NaN</td>\n",
       "    </tr>\n",
       "  </tbody>\n",
       "</table>\n",
       "</div>"
      ],
      "text/plain": [
       "0 Valor de la unidad 30 días 180 días Año corrido Último año Últimos dos años  \\\n",
       "1     $23,276.885027  39.29%   30.82%      33.47%     34.23%           17.92%   \n",
       "\n",
       "0 Últimos tres años Fecha de Cierre  Valor en Pesos Fondo de Inversion  \\\n",
       "1            13.31%      2021-07-23  74786347512.33  Acciones Globales   \n",
       "\n",
       "0 Calificación      Plazo Fondo administrador por  7 días  \n",
       "1    No Aplica  No aplica       Credicorp Capital     NaN  "
      ]
     },
     "execution_count": 102,
     "metadata": {},
     "output_type": "execute_result"
    }
   ],
   "source": [
    "fund_info"
   ]
  },
  {
   "cell_type": "code",
   "execution_count": 111,
   "metadata": {},
   "outputs": [],
   "source": [
    "fund_info = fund_info.apply(lambda x: x.str.replace('$','') if x.dtype == 'object' else x, axis = 0)\n",
    "fund_info = fund_info.apply(lambda x: x.str.replace('%','') if x.dtype == 'object' else x, axis = 0)\n",
    "fund_info = fund_info.apply(lambda x: x.str.replace(',','') if x.dtype == 'object' else x, axis = 0)"
   ]
  },
  {
   "cell_type": "code",
   "execution_count": 112,
   "metadata": {},
   "outputs": [
    {
     "data": {
      "text/html": [
       "<div>\n",
       "<style scoped>\n",
       "    .dataframe tbody tr th:only-of-type {\n",
       "        vertical-align: middle;\n",
       "    }\n",
       "\n",
       "    .dataframe tbody tr th {\n",
       "        vertical-align: top;\n",
       "    }\n",
       "\n",
       "    .dataframe thead th {\n",
       "        text-align: right;\n",
       "    }\n",
       "</style>\n",
       "<table border=\"1\" class=\"dataframe\">\n",
       "  <thead>\n",
       "    <tr style=\"text-align: right;\">\n",
       "      <th></th>\n",
       "      <th>Valor de la unidad</th>\n",
       "      <th>30 días</th>\n",
       "      <th>180 días</th>\n",
       "      <th>Año corrido</th>\n",
       "      <th>Último año</th>\n",
       "      <th>Últimos dos años</th>\n",
       "      <th>Últimos tres años</th>\n",
       "      <th>Fecha de Cierre</th>\n",
       "      <th>Valor en Pesos</th>\n",
       "      <th>Fondo de Inversion</th>\n",
       "      <th>Calificación</th>\n",
       "      <th>Plazo</th>\n",
       "      <th>Fondo administrador por</th>\n",
       "      <th>7 días</th>\n",
       "    </tr>\n",
       "  </thead>\n",
       "  <tbody>\n",
       "    <tr>\n",
       "      <th>1</th>\n",
       "      <td>23276.885027</td>\n",
       "      <td>39.29</td>\n",
       "      <td>30.82</td>\n",
       "      <td>33.47</td>\n",
       "      <td>34.23</td>\n",
       "      <td>17.92</td>\n",
       "      <td>13.31</td>\n",
       "      <td>2021-07-23</td>\n",
       "      <td>74786347512.33</td>\n",
       "      <td>Acciones Globales</td>\n",
       "      <td>No Aplica</td>\n",
       "      <td>No aplica</td>\n",
       "      <td>Credicorp Capital</td>\n",
       "      <td>NaN</td>\n",
       "    </tr>\n",
       "  </tbody>\n",
       "</table>\n",
       "</div>"
      ],
      "text/plain": [
       "0 Valor de la unidad 30 días 180 días Año corrido Último año Últimos dos años  \\\n",
       "1       23276.885027   39.29    30.82       33.47      34.23            17.92   \n",
       "\n",
       "0 Últimos tres años Fecha de Cierre  Valor en Pesos Fondo de Inversion  \\\n",
       "1             13.31      2021-07-23  74786347512.33  Acciones Globales   \n",
       "\n",
       "0 Calificación      Plazo Fondo administrador por  7 días  \n",
       "1    No Aplica  No aplica       Credicorp Capital     NaN  "
      ]
     },
     "execution_count": 112,
     "metadata": {},
     "output_type": "execute_result"
    }
   ],
   "source": [
    "fund_info"
   ]
  },
  {
   "cell_type": "code",
   "execution_count": 115,
   "metadata": {},
   "outputs": [],
   "source": [
    "float_columns = ['Valor de la unidad', '30 días', '180 días', 'Año corrido', 'Último año', 'Últimos dos años',\n",
    "                 'Últimos tres años','Valor en Pesos']"
   ]
  },
  {
   "cell_type": "code",
   "execution_count": 119,
   "metadata": {},
   "outputs": [],
   "source": [
    "fund_info[float_columns] = fund_info[float_columns].apply(lambda x: x.astype('float'), axis = 0)"
   ]
  },
  {
   "cell_type": "code",
   "execution_count": 122,
   "metadata": {},
   "outputs": [],
   "source": [
    "fund_info['Fecha de Cierre'] = pd.to_datetime(fund_info['Fecha de Cierre'], format = '%Y/%m/%d')\n",
    "fund_info['Fecha Extracción']= pd.to_datetime(time.strftime('%Y/%m/%d', time.localtime(time.time())))"
   ]
  },
  {
   "cell_type": "code",
   "execution_count": 124,
   "metadata": {},
   "outputs": [
    {
     "data": {
      "text/html": [
       "<div>\n",
       "<style scoped>\n",
       "    .dataframe tbody tr th:only-of-type {\n",
       "        vertical-align: middle;\n",
       "    }\n",
       "\n",
       "    .dataframe tbody tr th {\n",
       "        vertical-align: top;\n",
       "    }\n",
       "\n",
       "    .dataframe thead th {\n",
       "        text-align: right;\n",
       "    }\n",
       "</style>\n",
       "<table border=\"1\" class=\"dataframe\">\n",
       "  <thead>\n",
       "    <tr style=\"text-align: right;\">\n",
       "      <th></th>\n",
       "      <th>Valor de la unidad</th>\n",
       "      <th>30 días</th>\n",
       "      <th>180 días</th>\n",
       "      <th>Año corrido</th>\n",
       "      <th>Último año</th>\n",
       "      <th>Últimos dos años</th>\n",
       "      <th>Últimos tres años</th>\n",
       "      <th>Fecha de Cierre</th>\n",
       "      <th>Valor en Pesos</th>\n",
       "      <th>Fondo de Inversion</th>\n",
       "      <th>Calificación</th>\n",
       "      <th>Plazo</th>\n",
       "      <th>Fondo administrador por</th>\n",
       "      <th>7 días</th>\n",
       "      <th>Fecha Extracción</th>\n",
       "    </tr>\n",
       "  </thead>\n",
       "  <tbody>\n",
       "    <tr>\n",
       "      <th>1</th>\n",
       "      <td>23276.885027</td>\n",
       "      <td>39.29</td>\n",
       "      <td>30.82</td>\n",
       "      <td>33.47</td>\n",
       "      <td>34.23</td>\n",
       "      <td>17.92</td>\n",
       "      <td>13.31</td>\n",
       "      <td>2021-07-23</td>\n",
       "      <td>7.478635e+10</td>\n",
       "      <td>Acciones Globales</td>\n",
       "      <td>No Aplica</td>\n",
       "      <td>No aplica</td>\n",
       "      <td>Credicorp Capital</td>\n",
       "      <td>NaN</td>\n",
       "      <td>2021-07-24</td>\n",
       "    </tr>\n",
       "  </tbody>\n",
       "</table>\n",
       "</div>"
      ],
      "text/plain": [
       "0  Valor de la unidad  30 días  180 días  Año corrido  Último año  \\\n",
       "1        23276.885027    39.29     30.82        33.47       34.23   \n",
       "\n",
       "0  Últimos dos años  Últimos tres años Fecha de Cierre  Valor en Pesos  \\\n",
       "1             17.92              13.31      2021-07-23    7.478635e+10   \n",
       "\n",
       "0 Fondo de Inversion Calificación      Plazo Fondo administrador por  7 días  \\\n",
       "1  Acciones Globales    No Aplica  No aplica       Credicorp Capital     NaN   \n",
       "\n",
       "0 Fecha Extracción  \n",
       "1       2021-07-24  "
      ]
     },
     "execution_count": 124,
     "metadata": {},
     "output_type": "execute_result"
    }
   ],
   "source": [
    "fund_info"
   ]
  },
  {
   "cell_type": "code",
   "execution_count": 125,
   "metadata": {},
   "outputs": [],
   "source": [
    " # Re ordering the columns\n",
    "fund_info = fund_info[['Fondo de Inversion','Fecha Extracción','Valor de la unidad','Valor en Pesos','7 días',\n",
    "                       '30 días','180 días','Año corrido','Último año','Últimos dos años','Últimos tres años',\n",
    "                       'Fecha de Cierre','Fondo administrador por','Calificación','Plazo',]]"
   ]
  },
  {
   "cell_type": "code",
   "execution_count": 126,
   "metadata": {},
   "outputs": [
    {
     "data": {
      "text/html": [
       "<div>\n",
       "<style scoped>\n",
       "    .dataframe tbody tr th:only-of-type {\n",
       "        vertical-align: middle;\n",
       "    }\n",
       "\n",
       "    .dataframe tbody tr th {\n",
       "        vertical-align: top;\n",
       "    }\n",
       "\n",
       "    .dataframe thead th {\n",
       "        text-align: right;\n",
       "    }\n",
       "</style>\n",
       "<table border=\"1\" class=\"dataframe\">\n",
       "  <thead>\n",
       "    <tr style=\"text-align: right;\">\n",
       "      <th></th>\n",
       "      <th>Fondo de Inversion</th>\n",
       "      <th>Fecha Extracción</th>\n",
       "      <th>Valor de la unidad</th>\n",
       "      <th>Valor en Pesos</th>\n",
       "      <th>7 días</th>\n",
       "      <th>30 días</th>\n",
       "      <th>180 días</th>\n",
       "      <th>Año corrido</th>\n",
       "      <th>Último año</th>\n",
       "      <th>Últimos dos años</th>\n",
       "      <th>Últimos tres años</th>\n",
       "      <th>Fecha de Cierre</th>\n",
       "      <th>Fondo administrador por</th>\n",
       "      <th>Calificación</th>\n",
       "      <th>Plazo</th>\n",
       "    </tr>\n",
       "  </thead>\n",
       "  <tbody>\n",
       "    <tr>\n",
       "      <th>1</th>\n",
       "      <td>Acciones Globales</td>\n",
       "      <td>2021-07-24</td>\n",
       "      <td>23276.885027</td>\n",
       "      <td>7.478635e+10</td>\n",
       "      <td>NaN</td>\n",
       "      <td>39.29</td>\n",
       "      <td>30.82</td>\n",
       "      <td>33.47</td>\n",
       "      <td>34.23</td>\n",
       "      <td>17.92</td>\n",
       "      <td>13.31</td>\n",
       "      <td>2021-07-23</td>\n",
       "      <td>Credicorp Capital</td>\n",
       "      <td>No Aplica</td>\n",
       "      <td>No aplica</td>\n",
       "    </tr>\n",
       "  </tbody>\n",
       "</table>\n",
       "</div>"
      ],
      "text/plain": [
       "0 Fondo de Inversion Fecha Extracción  Valor de la unidad  Valor en Pesos  \\\n",
       "1  Acciones Globales       2021-07-24        23276.885027    7.478635e+10   \n",
       "\n",
       "0  7 días  30 días  180 días  Año corrido  Último año  Últimos dos años  \\\n",
       "1     NaN    39.29     30.82        33.47       34.23             17.92   \n",
       "\n",
       "0  Últimos tres años Fecha de Cierre Fondo administrador por Calificación  \\\n",
       "1              13.31      2021-07-23       Credicorp Capital    No Aplica   \n",
       "\n",
       "0      Plazo  \n",
       "1  No aplica  "
      ]
     },
     "execution_count": 126,
     "metadata": {},
     "output_type": "execute_result"
    }
   ],
   "source": [
    "fund_info"
   ]
  },
  {
   "cell_type": "code",
   "execution_count": 127,
   "metadata": {},
   "outputs": [],
   "source": [
    "browser.quit()"
   ]
  },
  {
   "cell_type": "code",
   "execution_count": 128,
   "metadata": {},
   "outputs": [],
   "source": [
    "historical_df = pd.concat([historical_df, fund_info]).reset_index(drop = True)"
   ]
  },
  {
   "cell_type": "code",
   "execution_count": 131,
   "metadata": {},
   "outputs": [
    {
     "name": "stdout",
     "output_type": "stream",
     "text": [
      "upgrading file...\n",
      "file successfully upgraded\n"
     ]
    }
   ],
   "source": [
    "print('upgrading file...')\n",
    "historical_df.to_excel('investment_funds.xlsx',index = False)\n",
    "print('file successfully upgraded')"
   ]
  }
 ],
 "metadata": {
  "kernelspec": {
   "display_name": "Python 3",
   "language": "python",
   "name": "python3"
  },
  "language_info": {
   "codemirror_mode": {
    "name": "ipython",
    "version": 3
   },
   "file_extension": ".py",
   "mimetype": "text/x-python",
   "name": "python",
   "nbconvert_exporter": "python",
   "pygments_lexer": "ipython3",
   "version": "3.8.3"
  }
 },
 "nbformat": 4,
 "nbformat_minor": 4
}
